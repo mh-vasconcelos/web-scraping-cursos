{
 "cells": [
  {
   "cell_type": "code",
   "execution_count": 146,
   "metadata": {},
   "outputs": [],
   "source": [
    "import pandas as pd\n",
    "import re"
   ]
  },
  {
   "cell_type": "markdown",
   "metadata": {},
   "source": [
    "## Visualizando os dados"
   ]
  },
  {
   "cell_type": "code",
   "execution_count": 147,
   "metadata": {},
   "outputs": [
    {
     "data": {
      "text/html": [
       "<div>\n",
       "<style scoped>\n",
       "    .dataframe tbody tr th:only-of-type {\n",
       "        vertical-align: middle;\n",
       "    }\n",
       "\n",
       "    .dataframe tbody tr th {\n",
       "        vertical-align: top;\n",
       "    }\n",
       "\n",
       "    .dataframe thead th {\n",
       "        text-align: right;\n",
       "    }\n",
       "</style>\n",
       "<table border=\"1\" class=\"dataframe\">\n",
       "  <thead>\n",
       "    <tr style=\"text-align: right;\">\n",
       "      <th></th>\n",
       "      <th>Curso</th>\n",
       "      <th>Preço</th>\n",
       "      <th>Carga Horaria</th>\n",
       "    </tr>\n",
       "  </thead>\n",
       "  <tbody>\n",
       "    <tr>\n",
       "      <th>0</th>\n",
       "      <td>Excel Analytics com Inteligência Artificial</td>\n",
       "      <td>R$999</td>\n",
       "      <td>72 h</td>\n",
       "    </tr>\n",
       "    <tr>\n",
       "      <th>1</th>\n",
       "      <td>Fundamentos de Data Science e Inteligência Art...</td>\n",
       "      <td>Gratuito</td>\n",
       "      <td>24 h</td>\n",
       "    </tr>\n",
       "    <tr>\n",
       "      <th>2</th>\n",
       "      <td>Fundamentos de Engenharia de Dados</td>\n",
       "      <td>Gratuito</td>\n",
       "      <td>24 h</td>\n",
       "    </tr>\n",
       "    <tr>\n",
       "      <th>3</th>\n",
       "      <td>Fundamentos de Linguagem Python Para Análise d...</td>\n",
       "      <td>Gratuito</td>\n",
       "      <td>72 h</td>\n",
       "    </tr>\n",
       "    <tr>\n",
       "      <th>4</th>\n",
       "      <td>Análise e Previsão de Séries Temporais com Int...</td>\n",
       "      <td>R$1.449</td>\n",
       "      <td>72 h</td>\n",
       "    </tr>\n",
       "  </tbody>\n",
       "</table>\n",
       "</div>"
      ],
      "text/plain": [
       "                                               Curso     Preço Carga Horaria\n",
       "0        Excel Analytics com Inteligência Artificial     R$999          72 h\n",
       "1  Fundamentos de Data Science e Inteligência Art...  Gratuito          24 h\n",
       "2                 Fundamentos de Engenharia de Dados  Gratuito          24 h\n",
       "3  Fundamentos de Linguagem Python Para Análise d...  Gratuito          72 h\n",
       "4  Análise e Previsão de Séries Temporais com Int...   R$1.449          72 h"
      ]
     },
     "execution_count": 147,
     "metadata": {},
     "output_type": "execute_result"
    }
   ],
   "source": [
    "df = pd.read_csv(\"cursos.csv\")\n",
    "df.head()"
   ]
  },
  {
   "cell_type": "code",
   "execution_count": 148,
   "metadata": {},
   "outputs": [
    {
     "name": "stdout",
     "output_type": "stream",
     "text": [
      "<class 'pandas.core.frame.DataFrame'>\n",
      "RangeIndex: 47 entries, 0 to 46\n",
      "Data columns (total 3 columns):\n",
      " #   Column         Non-Null Count  Dtype \n",
      "---  ------         --------------  ----- \n",
      " 0   Curso          47 non-null     object\n",
      " 1   Preço          47 non-null     object\n",
      " 2   Carga Horaria  47 non-null     object\n",
      "dtypes: object(3)\n",
      "memory usage: 1.2+ KB\n"
     ]
    }
   ],
   "source": [
    "df.info()"
   ]
  },
  {
   "cell_type": "markdown",
   "metadata": {},
   "source": [
    "## Ajustando o tipo de dados"
   ]
  },
  {
   "cell_type": "markdown",
   "metadata": {},
   "source": [
    "#### Ajustando a coluna 'Carga Horaria'"
   ]
  },
  {
   "cell_type": "code",
   "execution_count": 149,
   "metadata": {},
   "outputs": [
    {
     "name": "stdout",
     "output_type": "stream",
     "text": [
      "72 h\n",
      "24 h\n",
      "24 h\n",
      "72 h\n",
      "72 h\n",
      "90 h\n",
      "86 h\n",
      "96 h\n",
      "88 h\n",
      "88 h\n",
      "100 h\n",
      "84 h\n",
      "144 h\n",
      "84 h\n",
      "80 h\n",
      "96 h\n",
      "100 h\n",
      "72 h\n",
      "96 h\n",
      "96 h\n",
      "64 h\n",
      "96 h\n",
      "96 h\n",
      "72 hs\n",
      "96 h\n",
      "84 h\n",
      "96 h\n",
      "84 horas\n",
      "100 h\n",
      "80 h\n",
      "84 h\n",
      "72 h\n",
      "96 h\n",
      "96 h\n",
      "80 h\n",
      "84 h\n",
      "86 hs\n",
      "100 h\n",
      "84 h\n",
      "70 h\n",
      "96 h\n",
      "82 h\n",
      "60 h\n",
      "90 h\n",
      "40 h\n",
      "96 h\n",
      "72 h\n"
     ]
    }
   ],
   "source": [
    "# Precisamos tirar qualquer letra como \"h\", \"hs\" ou \"horas\"\n",
    "for i in df['Carga Horaria']:\n",
    "    print(i)"
   ]
  },
  {
   "cell_type": "code",
   "execution_count": 150,
   "metadata": {},
   "outputs": [],
   "source": [
    "# Usando regex, conseguimos definir o que queremos como padrão (as letras que representam as horas)\n",
    "padrao = r'[\\s][a-z]*'"
   ]
  },
  {
   "cell_type": "code",
   "execution_count": 151,
   "metadata": {},
   "outputs": [
    {
     "data": {
      "text/plain": [
       "0    72\n",
       "1    24\n",
       "2    24\n",
       "3    72\n",
       "4    72\n",
       "Name: Carga Horaria, dtype: object"
      ]
     },
     "execution_count": 151,
     "metadata": {},
     "output_type": "execute_result"
    }
   ],
   "source": [
    "# Agora basta substituir usando apply e uma função lambda que vai aplicar o padrão regex no método sub\n",
    "df['Carga Horaria'] = df['Carga Horaria'].apply(lambda x: re.sub(padrao, '', x))\n",
    "df['Carga Horaria'].head(5)\n",
    "    "
   ]
  },
  {
   "cell_type": "code",
   "execution_count": 152,
   "metadata": {},
   "outputs": [
    {
     "name": "stdout",
     "output_type": "stream",
     "text": [
      "0    72\n",
      "1    24\n",
      "2    24\n",
      "3    72\n",
      "4    72\n",
      "Name: Carga Horaria, dtype: int64\n"
     ]
    }
   ],
   "source": [
    "df['Carga Horaria'] = pd.to_numeric(df['Carga Horaria'], errors='coerce')\n",
    "print(df['Carga Horaria'].head())"
   ]
  },
  {
   "cell_type": "markdown",
   "metadata": {},
   "source": [
    "#### Ajustando a coluna \"Preco\""
   ]
  },
  {
   "cell_type": "code",
   "execution_count": 153,
   "metadata": {},
   "outputs": [],
   "source": [
    "def ajusta_numero(valor):\n",
    "    if isinstance(valor, str) and 'R$' in valor:\n",
    "        return float(valor.replace(\"R$\", \"\").replace(\".\", \"\").strip())\n",
    "    return None "
   ]
  },
  {
   "cell_type": "code",
   "execution_count": 154,
   "metadata": {},
   "outputs": [
    {
     "data": {
      "text/plain": [
       "0     999.0\n",
       "1       NaN\n",
       "2       NaN\n",
       "3       NaN\n",
       "4    1449.0\n",
       "Name: Preço, dtype: float64"
      ]
     },
     "execution_count": 154,
     "metadata": {},
     "output_type": "execute_result"
    }
   ],
   "source": [
    "df['Preço'] = df['Preço'].apply(ajusta_numero)\n",
    "df['Preço'].head()"
   ]
  },
  {
   "cell_type": "code",
   "execution_count": 155,
   "metadata": {},
   "outputs": [
    {
     "data": {
      "text/plain": [
       "4.0"
      ]
     },
     "execution_count": 155,
     "metadata": {},
     "output_type": "execute_result"
    }
   ],
   "source": [
    "# Note que temos 4 valores vazios, que são os cursos que eram gratuitos\n",
    "\n",
    "float(df['Preço'].isnull().sum())"
   ]
  },
  {
   "cell_type": "code",
   "execution_count": 156,
   "metadata": {},
   "outputs": [
    {
     "data": {
      "text/plain": [
       "0      999.0\n",
       "1        0.0\n",
       "2        0.0\n",
       "3        0.0\n",
       "4     1449.0\n",
       "5     1870.0\n",
       "6     1530.0\n",
       "7     1340.0\n",
       "8     1230.0\n",
       "9     1250.0\n",
       "10    1550.0\n",
       "11    1400.0\n",
       "12    1590.0\n",
       "13    1390.0\n",
       "14    1399.0\n",
       "15    1740.0\n",
       "16    1680.0\n",
       "17    1250.0\n",
       "18    1800.0\n",
       "19    1540.0\n",
       "20     980.0\n",
       "21    2040.0\n",
       "22    2100.0\n",
       "23    1410.0\n",
       "24    1600.0\n",
       "25    1449.0\n",
       "26    1540.0\n",
       "27    1540.0\n",
       "28    1600.0\n",
       "29    1540.0\n",
       "30    1199.0\n",
       "31       0.0\n",
       "32    1399.0\n",
       "33    1440.0\n",
       "34    1300.0\n",
       "35    1430.0\n",
       "36    1500.0\n",
       "37    1870.0\n",
       "38    1349.0\n",
       "39    1040.0\n",
       "40    1840.0\n",
       "41    1420.0\n",
       "42    1349.0\n",
       "43    1400.0\n",
       "44     565.0\n",
       "45    1400.0\n",
       "46     890.0\n",
       "Name: Preço, dtype: float64"
      ]
     },
     "execution_count": 156,
     "metadata": {},
     "output_type": "execute_result"
    }
   ],
   "source": [
    "# Preenchemos 0 onde temos os valores vazios (que eram os cursos gratuitos)\n",
    "df['Preço'] = df['Preço'].fillna(0)\n",
    "df['Preço']"
   ]
  },
  {
   "cell_type": "code",
   "execution_count": 157,
   "metadata": {},
   "outputs": [
    {
     "name": "stdout",
     "output_type": "stream",
     "text": [
      "<class 'pandas.core.frame.DataFrame'>\n",
      "RangeIndex: 47 entries, 0 to 46\n",
      "Data columns (total 3 columns):\n",
      " #   Column         Non-Null Count  Dtype  \n",
      "---  ------         --------------  -----  \n",
      " 0   Curso          47 non-null     object \n",
      " 1   Preço          47 non-null     float64\n",
      " 2   Carga Horaria  47 non-null     int64  \n",
      "dtypes: float64(1), int64(1), object(1)\n",
      "memory usage: 1.2+ KB\n"
     ]
    }
   ],
   "source": [
    "df.info()"
   ]
  },
  {
   "cell_type": "markdown",
   "metadata": {},
   "source": [
    "## Concluindo\n",
    "Data Frame ajustado e os dados via webscraping estão prontos p/ uso"
   ]
  },
  {
   "cell_type": "code",
   "execution_count": 160,
   "metadata": {},
   "outputs": [],
   "source": [
    "df.to_csv('cursos_ajustado.csv', index=False)"
   ]
  }
 ],
 "metadata": {
  "kernelspec": {
   "display_name": "Python 3",
   "language": "python",
   "name": "python3"
  },
  "language_info": {
   "codemirror_mode": {
    "name": "ipython",
    "version": 3
   },
   "file_extension": ".py",
   "mimetype": "text/x-python",
   "name": "python",
   "nbconvert_exporter": "python",
   "pygments_lexer": "ipython3",
   "version": "3.13.0"
  }
 },
 "nbformat": 4,
 "nbformat_minor": 2
}
